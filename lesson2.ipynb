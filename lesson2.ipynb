{
 "cells": [
  {
   "cell_type": "code",
   "execution_count": null,
   "id": "1976c345-4bf1-411d-aab4-407dfc871349",
   "metadata": {},
   "outputs": [],
   "source": [
    "import numpy as np\n",
    "import xarray as xr\n",
    "from matplotlib import pyplot as plt\n",
    "%xmode Minimal"
   ]
  },
  {
   "cell_type": "markdown",
   "id": "2240ae3b-fe07-4d33-a615-4270bfe92a13",
   "metadata": {},
   "source": [
    "Data source: the NOAA Extended Reconstructed Sea Surface Temperature (ERSST) v5 product, a widely used and trusted gridded compilation of of historical data going back to 1854."
   ]
  },
  {
   "cell_type": "code",
   "execution_count": null,
   "id": "3d8b00bc-e493-47e7-8496-783e760f6568",
   "metadata": {},
   "outputs": [],
   "source": [
    "url = 'http://www.esrl.noaa.gov/psd/thredds/dodsC/Datasets/noaa.ersst.v5/sst.mnmean.nc'\n",
    "ds = xr.open_dataset(url, drop_variables=['time_bnds'])\n",
    "ds = ds.sel(time=slice('1960', '2018')).load()\n",
    "ds"
   ]
  },
  {
   "cell_type": "code",
   "execution_count": null,
   "id": "d25f8ffd-045f-4b35-9dcd-fbb20dadcdb1",
   "metadata": {},
   "outputs": [],
   "source": [
    "ds.sst[0].plot(vmin=-2, vmax=30)"
   ]
  },
  {
   "cell_type": "code",
   "execution_count": null,
   "id": "2d52e23e-531f-4c9e-b1c4-4945768e338d",
   "metadata": {},
   "outputs": [],
   "source": [
    "ds.sst.sel(lon=300, lat=50).plot()"
   ]
  },
  {
   "cell_type": "code",
   "execution_count": null,
   "id": "736f1a5b-3aa2-4b37-be17-ce3ec0fe319a",
   "metadata": {
    "scrolled": true
   },
   "outputs": [],
   "source": [
    "ds.time.dt.month"
   ]
  },
  {
   "cell_type": "code",
   "execution_count": null,
   "id": "245102a5-c247-4247-a6a3-b40599ea66fa",
   "metadata": {},
   "outputs": [],
   "source": [
    "ds"
   ]
  },
  {
   "cell_type": "code",
   "execution_count": null,
   "id": "81f8df5a-ef4d-4692-bc98-a68326b5ca78",
   "metadata": {},
   "outputs": [],
   "source": [
    "gb = ds.sst.groupby(ds.time.dt.month)\n",
    "gb = ds.sst.groupby('time.month')\n",
    "gb"
   ]
  },
  {
   "cell_type": "code",
   "execution_count": null,
   "id": "478b0c79-1996-4778-ba35-15e23103f882",
   "metadata": {},
   "outputs": [],
   "source": [
    "for group_name, group_da in gb:\n",
    "    # stop iterating after the first loop\n",
    "    break \n",
    "\n",
    "group_da.time.dt\n"
   ]
  },
  {
   "cell_type": "code",
   "execution_count": null,
   "id": "5ccfb3e2-9e7e-4573-96a7-811e790a22bb",
   "metadata": {},
   "outputs": [],
   "source": [
    "(gb.mean(dim = \"lat\") - ds.sst.mean(dim = \"lat\")).plot()"
   ]
  },
  {
   "cell_type": "code",
   "execution_count": null,
   "id": "0f6a53b9-ad75-4cde-b162-664be1f573c8",
   "metadata": {},
   "outputs": [],
   "source": [
    "# this does the same thing as the previous cell\n",
    "sst_mm = gb.mean(dim='time')\n",
    "sst_mm"
   ]
  },
  {
   "cell_type": "code",
   "execution_count": null,
   "id": "57faeecf-743f-4cfc-bae8-acf601827602",
   "metadata": {},
   "outputs": [],
   "source": [
    "sst_mm.sel(lon=300, lat=50).plot()"
   ]
  },
  {
   "cell_type": "code",
   "execution_count": null,
   "id": "6a629b0d-5111-4f7d-b9cf-f385dcbec75d",
   "metadata": {},
   "outputs": [],
   "source": [
    "sst_mm.mean(dim='lon').transpose().plot.contourf(levels=12, vmin=-2, vmax=30)"
   ]
  },
  {
   "cell_type": "code",
   "execution_count": null,
   "id": "1cfb5bfb-4e91-4571-b3b8-f229c0d3e9b7",
   "metadata": {},
   "outputs": [],
   "source": [
    "sst_mm.mean(dim='lon').plot.contourf(levels=12, vmin=-2, vmax=30)"
   ]
  },
  {
   "cell_type": "code",
   "execution_count": null,
   "id": "219e0073-98e2-4a38-bab9-e464b620ee84",
   "metadata": {},
   "outputs": [],
   "source": [
    "def remove_time_mean(x):\n",
    "    return x - x.mean(dim='time')\n",
    "\n",
    "ds_anom = ds.groupby('time.month').apply(remove_time_mean)\n",
    "ds_anom"
   ]
  },
  {
   "cell_type": "code",
   "execution_count": null,
   "id": "08369bbd-765a-478e-a2e3-81869053b8b3",
   "metadata": {},
   "outputs": [],
   "source": [
    "gb = ds.groupby('time.month')\n",
    "ds_anom = gb - gb.mean(dim='time')\n",
    "ds_anom"
   ]
  },
  {
   "cell_type": "code",
   "execution_count": null,
   "id": "8a279a51-675c-4068-94fb-29455c1d3bcd",
   "metadata": {},
   "outputs": [],
   "source": [
    "ds_anom_resample = ds_anom.resample(time='5Y').mean(dim='time')\n",
    "ds_anom_resample"
   ]
  },
  {
   "cell_type": "code",
   "execution_count": null,
   "id": "70a706ee-bd90-4738-aa4f-31a2c74ec5a0",
   "metadata": {},
   "outputs": [],
   "source": [
    "ds_anom.sst.sel(lon=300, lat=50).plot()\n",
    "ds_anom_resample.sst.sel(lon=300, lat=50).plot(marker='o')"
   ]
  },
  {
   "cell_type": "code",
   "execution_count": null,
   "id": "8bf3ebef-592f-4067-b901-80151b63e338",
   "metadata": {},
   "outputs": [],
   "source": [
    "(ds_anom_resample.sel(time='2015-01-01', method='nearest') -\n",
    " ds_anom_resample.sel(time='1965-01-01', method='nearest')).sst.plot()"
   ]
  },
  {
   "cell_type": "code",
   "execution_count": null,
   "id": "605cda55-91a2-40fc-b9de-9cfb94bd1a77",
   "metadata": {},
   "outputs": [],
   "source": [
    "ds_anom_rolling = ds_anom.rolling(time=12, center=True).mean()\n",
    "ds_anom_rolling"
   ]
  },
  {
   "cell_type": "code",
   "execution_count": null,
   "id": "e281fc83-716b-4b62-90c0-e952fa49667f",
   "metadata": {},
   "outputs": [],
   "source": [
    "ds_anom.sst.sel(lon=300, lat=50).plot(label='monthly anom')\n",
    "ds_anom_resample.sst.sel(lon=300, lat=50).plot(marker='o', label='5 year resample')\n",
    "ds_anom_rolling.sst.sel(lon=300, lat=50).plot(label='12 month rolling mean', color='k')\n",
    "plt.legend()\n"
   ]
  },
  {
   "cell_type": "code",
   "execution_count": null,
   "id": "4f5c0a53-7f7d-48a4-bb4a-7f45467673e8",
   "metadata": {},
   "outputs": [],
   "source": [
    "ds.coarsen(time=12).mean()"
   ]
  },
  {
   "cell_type": "code",
   "execution_count": null,
   "id": "c05be744-45f6-40c8-81a7-4cb9fefd0ee0",
   "metadata": {},
   "outputs": [],
   "source": [
    "ds_coarse = ds.coarsen(lon=4, lat=4, boundary='pad').mean()\n",
    "ds_coarse.sst.isel(time=0).plot(vmin=2, vmax=30, figsize=(12, 5), edgecolor='k')"
   ]
  }
 ],
 "metadata": {
  "kernelspec": {
   "display_name": "Python 3 (ipykernel)",
   "language": "python",
   "name": "python3"
  },
  "language_info": {
   "codemirror_mode": {
    "name": "ipython",
    "version": 3
   },
   "file_extension": ".py",
   "mimetype": "text/x-python",
   "name": "python",
   "nbconvert_exporter": "python",
   "pygments_lexer": "ipython3",
   "version": "3.10.8"
  }
 },
 "nbformat": 4,
 "nbformat_minor": 5
}
